{
  "nbformat": 4,
  "nbformat_minor": 0,
  "metadata": {
    "colab": {
      "name": "Untitled30.ipynb",
      "provenance": [],
      "history_visible": true,
      "include_colab_link": true
    },
    "kernelspec": {
      "name": "python3",
      "display_name": "Python 3"
    }
  },
  "cells": [
    {
      "cell_type": "markdown",
      "metadata": {
        "id": "view-in-github",
        "colab_type": "text"
      },
      "source": [
        "<a href=\"https://colab.research.google.com/github/tischatascha/PYDA_homeworks/blob/master/case_study.ipynb\" target=\"_parent\"><img src=\"https://colab.research.google.com/assets/colab-badge.svg\" alt=\"Open In Colab\"/></a>"
      ]
    },
    {
      "cell_type": "code",
      "metadata": {
        "id": "MuA78qXY7t00",
        "colab_type": "code",
        "colab": {
          "base_uri": "https://localhost:8080/",
          "height": 34
        },
        "outputId": "3cb86f8f-3940-4a22-8fae-3a08e9b85dd8"
      },
      "source": [
        "name = 'Alexey'\n",
        "family = 'Kuzmin'\n",
        "surname = 'Alx'\n",
        "\n",
        "if surname != '':\n",
        "  fullname = name + ' '\n",
        "  fullname = fullname + surname\n",
        "  fullname = fullname + ' '\n",
        "  fullname += family\n",
        "else:\n",
        "  fullname = name + ' ' + family\n",
        "\n",
        "print(fullname)"
      ],
      "execution_count": 4,
      "outputs": [
        {
          "output_type": "stream",
          "text": [
            "Alexey Alx Kuzmin\n"
          ],
          "name": "stdout"
        }
      ]
    },
    {
      "cell_type": "code",
      "metadata": {
        "id": "W7Pb8aRV8mR-",
        "colab_type": "code",
        "colab": {
          "base_uri": "https://localhost:8080/",
          "height": 340
        },
        "outputId": "0b8ed87d-9b53-4fa3-b2bc-dccee8ab60ce"
      },
      "source": [
        "age = 20\n",
        "candles_count =  15\n",
        "\n",
        "printed_count = 0\n",
        "\n",
        "while printed_count < age:\n",
        "  printed_count += 1\n",
        "\n",
        "  #if printed_count % 2 == 0:\n",
        "  #  continue\n",
        "\n",
        "  if printed_count > candles_count:\n",
        "    break\n",
        "\n",
        "  print(\"Candle\")\n",
        "  if printed_count % 5 == 0:\n",
        "    print(\"!\"*10)\n",
        "  \n",
        "print(\"That's all, folks!\")"
      ],
      "execution_count": 11,
      "outputs": [
        {
          "output_type": "stream",
          "text": [
            "Candle\n",
            "Candle\n",
            "Candle\n",
            "Candle\n",
            "Candle\n",
            "!!!!!!!!!!\n",
            "Candle\n",
            "Candle\n",
            "Candle\n",
            "Candle\n",
            "Candle\n",
            "!!!!!!!!!!\n",
            "Candle\n",
            "Candle\n",
            "Candle\n",
            "Candle\n",
            "Candle\n",
            "!!!!!!!!!!\n",
            "That's all, folks!\n"
          ],
          "name": "stdout"
        }
      ]
    },
    {
      "cell_type": "code",
      "metadata": {
        "id": "nVsHMr3RDYXk",
        "colab_type": "code",
        "colab": {}
      },
      "source": [
        "import random"
      ],
      "execution_count": 12,
      "outputs": []
    },
    {
      "cell_type": "code",
      "metadata": {
        "id": "6TitvaXNDby6",
        "colab_type": "code",
        "colab": {
          "base_uri": "https://localhost:8080/",
          "height": 34
        },
        "outputId": "4ac9fc31-c65f-4d89-b50b-f7a2fa267795"
      },
      "source": [
        "random.random()"
      ],
      "execution_count": 13,
      "outputs": [
        {
          "output_type": "execute_result",
          "data": {
            "text/plain": [
              "0.156422562280371"
            ]
          },
          "metadata": {
            "tags": []
          },
          "execution_count": 13
        }
      ]
    },
    {
      "cell_type": "code",
      "metadata": {
        "id": "OkG3eC8s_k-D",
        "colab_type": "code",
        "colab": {
          "base_uri": "https://localhost:8080/",
          "height": 238
        },
        "outputId": "7d732a2b-6480-48e6-fb15-4d8f142e6feb"
      },
      "source": [
        "# всегда верное условие\n",
        "while True:\n",
        "  print(\"Not lucky\")\n",
        "  if random.random() > 0.9:\n",
        "    break"
      ],
      "execution_count": 14,
      "outputs": [
        {
          "output_type": "stream",
          "text": [
            "Not lucky\n",
            "Not lucky\n",
            "Not lucky\n",
            "Not lucky\n",
            "Not lucky\n",
            "Not lucky\n",
            "Not lucky\n",
            "Not lucky\n",
            "Not lucky\n",
            "Not lucky\n",
            "Not lucky\n",
            "Not lucky\n",
            "Not lucky\n"
          ],
          "name": "stdout"
        }
      ]
    },
    {
      "cell_type": "code",
      "metadata": {
        "id": "16qzm2AZDhoQ",
        "colab_type": "code",
        "colab": {}
      },
      "source": [
        "a = 'apple'"
      ],
      "execution_count": 15,
      "outputs": []
    },
    {
      "cell_type": "code",
      "metadata": {
        "id": "vaX41TedD96P",
        "colab_type": "code",
        "colab": {}
      },
      "source": [
        "shopping_list = ['apple', 'banana', 'milk']"
      ],
      "execution_count": 16,
      "outputs": []
    },
    {
      "cell_type": "code",
      "metadata": {
        "id": "3uWvVBfRERDE",
        "colab_type": "code",
        "colab": {
          "base_uri": "https://localhost:8080/",
          "height": 34
        },
        "outputId": "bb812825-c41b-41a3-b0a1-84344563e78c"
      },
      "source": [
        "print(shopping_list)"
      ],
      "execution_count": 17,
      "outputs": [
        {
          "output_type": "stream",
          "text": [
            "['apple', 'banana', 'milk']\n"
          ],
          "name": "stdout"
        }
      ]
    },
    {
      "cell_type": "code",
      "metadata": {
        "id": "PjcQ3pQGEbdb",
        "colab_type": "code",
        "colab": {}
      },
      "source": [
        "shopping_list.append('tomatos')"
      ],
      "execution_count": 18,
      "outputs": []
    },
    {
      "cell_type": "code",
      "metadata": {
        "id": "qPpT4Hp1Ejva",
        "colab_type": "code",
        "colab": {
          "base_uri": "https://localhost:8080/",
          "height": 34
        },
        "outputId": "94968d72-0d42-44c9-bd6b-0a7b436761b3"
      },
      "source": [
        "print(shopping_list)"
      ],
      "execution_count": 19,
      "outputs": [
        {
          "output_type": "stream",
          "text": [
            "['apple', 'banana', 'milk', 'tomatos']\n"
          ],
          "name": "stdout"
        }
      ]
    },
    {
      "cell_type": "code",
      "metadata": {
        "id": "nTJfY049ElJZ",
        "colab_type": "code",
        "colab": {
          "base_uri": "https://localhost:8080/",
          "height": 35
        },
        "outputId": "f55d4959-54d2-45cd-c4db-e86e04ca6433"
      },
      "source": [
        "shopping_list[2]"
      ],
      "execution_count": 20,
      "outputs": [
        {
          "output_type": "execute_result",
          "data": {
            "application/vnd.google.colaboratory.intrinsic+json": {
              "type": "string"
            },
            "text/plain": [
              "'milk'"
            ]
          },
          "metadata": {
            "tags": []
          },
          "execution_count": 20
        }
      ]
    },
    {
      "cell_type": "code",
      "metadata": {
        "id": "Aa6EUsWcE2r7",
        "colab_type": "code",
        "colab": {}
      },
      "source": [
        "shopping_list[2] = 'juice'"
      ],
      "execution_count": 21,
      "outputs": []
    },
    {
      "cell_type": "code",
      "metadata": {
        "id": "b6cg9Vb2E63n",
        "colab_type": "code",
        "colab": {
          "base_uri": "https://localhost:8080/",
          "height": 34
        },
        "outputId": "1f615670-6a0d-479b-a9c0-31e8eb08dd35"
      },
      "source": [
        "print(shopping_list)"
      ],
      "execution_count": 22,
      "outputs": [
        {
          "output_type": "stream",
          "text": [
            "['apple', 'banana', 'juice', 'tomatos']\n"
          ],
          "name": "stdout"
        }
      ]
    },
    {
      "cell_type": "code",
      "metadata": {
        "id": "dXYggy7kE9LM",
        "colab_type": "code",
        "colab": {}
      },
      "source": [
        "shopping_list.append(5)"
      ],
      "execution_count": 23,
      "outputs": []
    },
    {
      "cell_type": "code",
      "metadata": {
        "id": "RrIxJtdlFH7h",
        "colab_type": "code",
        "colab": {
          "base_uri": "https://localhost:8080/",
          "height": 34
        },
        "outputId": "fff4cfc6-b9c5-4e3d-9f37-efbcf3903961"
      },
      "source": [
        "print(shopping_list)"
      ],
      "execution_count": 24,
      "outputs": [
        {
          "output_type": "stream",
          "text": [
            "['apple', 'banana', 'juice', 'tomatos', 5]\n"
          ],
          "name": "stdout"
        }
      ]
    },
    {
      "cell_type": "code",
      "metadata": {
        "id": "iH-cXVKWFJHu",
        "colab_type": "code",
        "colab": {
          "base_uri": "https://localhost:8080/",
          "height": 55
        },
        "outputId": "a889be9c-0497-4fd7-f905-2c9ab3ffc121"
      },
      "source": [
        "len(shopping_list)"
      ],
      "execution_count": null,
      "outputs": [
        {
          "output_type": "execute_result",
          "data": {
            "text/plain": [
              "5"
            ]
          },
          "metadata": {
            "tags": []
          },
          "execution_count": 20
        }
      ]
    },
    {
      "cell_type": "code",
      "metadata": {
        "id": "_EcShfUxFWJt",
        "colab_type": "code",
        "colab": {
          "base_uri": "https://localhost:8080/",
          "height": 55
        },
        "outputId": "0ed24024-6c02-4d8a-c256-1fdeb58b11ab"
      },
      "source": [
        "shopping_list[3]"
      ],
      "execution_count": null,
      "outputs": [
        {
          "output_type": "execute_result",
          "data": {
            "text/plain": [
              "'tomatos'"
            ]
          },
          "metadata": {
            "tags": []
          },
          "execution_count": 21
        }
      ]
    },
    {
      "cell_type": "code",
      "metadata": {
        "id": "XdojkyC-Fda4",
        "colab_type": "code",
        "colab": {
          "base_uri": "https://localhost:8080/",
          "height": 55
        },
        "outputId": "4c4ae4ba-4a8d-4085-8ced-d1ff592500b7"
      },
      "source": [
        "'orange' in shopping_list"
      ],
      "execution_count": null,
      "outputs": [
        {
          "output_type": "execute_result",
          "data": {
            "text/plain": [
              "False"
            ]
          },
          "metadata": {
            "tags": []
          },
          "execution_count": 23
        }
      ]
    },
    {
      "cell_type": "code",
      "metadata": {
        "id": "lFYesgxvGI5a",
        "colab_type": "code",
        "colab": {
          "base_uri": "https://localhost:8080/",
          "height": 55
        },
        "outputId": "e42ffa14-d6d5-472d-ec87-da895ab28b56"
      },
      "source": [
        "shopping_list.index('banana')"
      ],
      "execution_count": null,
      "outputs": [
        {
          "output_type": "execute_result",
          "data": {
            "text/plain": [
              "1"
            ]
          },
          "metadata": {
            "tags": []
          },
          "execution_count": 24
        }
      ]
    },
    {
      "cell_type": "code",
      "metadata": {
        "id": "TY3bMjiaGSro",
        "colab_type": "code",
        "colab": {}
      },
      "source": [
        "shopping_list = {'apple': 5, 'banana': 2, 'milk': 1}"
      ],
      "execution_count": 36,
      "outputs": []
    },
    {
      "cell_type": "code",
      "metadata": {
        "id": "jLDvQIXmG_sF",
        "colab_type": "code",
        "colab": {
          "base_uri": "https://localhost:8080/",
          "height": 34
        },
        "outputId": "57cfe7e9-58d4-43d7-ea94-c69028ce0d6e"
      },
      "source": [
        "shopping_list"
      ],
      "execution_count": 37,
      "outputs": [
        {
          "output_type": "execute_result",
          "data": {
            "text/plain": [
              "{'apple': 5, 'banana': 2, 'milk': 1}"
            ]
          },
          "metadata": {
            "tags": []
          },
          "execution_count": 37
        }
      ]
    },
    {
      "cell_type": "code",
      "metadata": {
        "id": "XFXTfyHVHBnR",
        "colab_type": "code",
        "colab": {
          "base_uri": "https://localhost:8080/",
          "height": 34
        },
        "outputId": "e235d382-5aa4-4d79-8696-71860e832556"
      },
      "source": [
        "shopping_list['banana']"
      ],
      "execution_count": 38,
      "outputs": [
        {
          "output_type": "execute_result",
          "data": {
            "text/plain": [
              "2"
            ]
          },
          "metadata": {
            "tags": []
          },
          "execution_count": 38
        }
      ]
    },
    {
      "cell_type": "code",
      "metadata": {
        "id": "-ASbPAU2HKpr",
        "colab_type": "code",
        "colab": {}
      },
      "source": [
        "shopping_list['mango'] = 1"
      ],
      "execution_count": 31,
      "outputs": []
    },
    {
      "cell_type": "code",
      "metadata": {
        "id": "54I3CAQRHQ2r",
        "colab_type": "code",
        "colab": {
          "base_uri": "https://localhost:8080/",
          "height": 34
        },
        "outputId": "97c559b0-bfd8-4a15-b673-d39cc15c7fe5"
      },
      "source": [
        "shopping_list"
      ],
      "execution_count": 39,
      "outputs": [
        {
          "output_type": "execute_result",
          "data": {
            "text/plain": [
              "{'apple': 5, 'banana': 2, 'milk': 1}"
            ]
          },
          "metadata": {
            "tags": []
          },
          "execution_count": 39
        }
      ]
    },
    {
      "cell_type": "code",
      "metadata": {
        "id": "8NW9BmeTHS-H",
        "colab_type": "code",
        "colab": {
          "base_uri": "https://localhost:8080/",
          "height": 34
        },
        "outputId": "ee1d4b16-9e46-46d5-a92e-aab3faf18ef6"
      },
      "source": [
        "shopping_list['apple']"
      ],
      "execution_count": 33,
      "outputs": [
        {
          "output_type": "execute_result",
          "data": {
            "text/plain": [
              "5"
            ]
          },
          "metadata": {
            "tags": []
          },
          "execution_count": 33
        }
      ]
    },
    {
      "cell_type": "code",
      "metadata": {
        "id": "TjVd-otwHfr4",
        "colab_type": "code",
        "colab": {
          "base_uri": "https://localhost:8080/",
          "height": 34
        },
        "outputId": "f29d6627-2811-45cf-aee9-204abb5113f6"
      },
      "source": [
        "'apple' in shopping_list"
      ],
      "execution_count": 40,
      "outputs": [
        {
          "output_type": "execute_result",
          "data": {
            "text/plain": [
              "True"
            ]
          },
          "metadata": {
            "tags": []
          },
          "execution_count": 40
        }
      ]
    },
    {
      "cell_type": "code",
      "metadata": {
        "id": "L7wznwqgIA95",
        "colab_type": "code",
        "colab": {}
      },
      "source": [
        "shop_l = ['apple', 'banana', 'juice', 'tomatos']"
      ],
      "execution_count": 43,
      "outputs": []
    },
    {
      "cell_type": "code",
      "metadata": {
        "id": "VSdeyXV4IM5U",
        "colab_type": "code",
        "colab": {
          "base_uri": "https://localhost:8080/",
          "height": 85
        },
        "outputId": "698f9c91-f359-40b4-d8c4-8ee162578c7c"
      },
      "source": [
        "printed = 0\n",
        "while printed < len(shop_l):\n",
        "  print(shop_l[printed])\n",
        "  printed += 1"
      ],
      "execution_count": 44,
      "outputs": [
        {
          "output_type": "stream",
          "text": [
            "apple\n",
            "banana\n",
            "juice\n",
            "tomatos\n"
          ],
          "name": "stdout"
        }
      ]
    },
    {
      "cell_type": "code",
      "metadata": {
        "id": "GiilnzWrIVa_",
        "colab_type": "code",
        "colab": {
          "base_uri": "https://localhost:8080/",
          "height": 85
        },
        "outputId": "4cbc91e4-41b5-435c-8c0e-eb88d902b3ec"
      },
      "source": [
        "for el in shop_l:\n",
        "  print(el)"
      ],
      "execution_count": 45,
      "outputs": [
        {
          "output_type": "stream",
          "text": [
            "apple\n",
            "banana\n",
            "juice\n",
            "tomatos\n"
          ],
          "name": "stdout"
        }
      ]
    },
    {
      "cell_type": "code",
      "metadata": {
        "id": "87ISWiikIbwe",
        "colab_type": "code",
        "colab": {
          "base_uri": "https://localhost:8080/",
          "height": 85
        },
        "outputId": "3f16f177-416c-4d8a-922f-c2be20349536"
      },
      "source": [
        "printed = 0\n",
        "while printed < len(shop_l):\n",
        "  el = shop_l[printed]\n",
        "  print(printed, shop_l[printed])\n",
        "  printed += 1"
      ],
      "execution_count": 46,
      "outputs": [
        {
          "output_type": "stream",
          "text": [
            "0 apple\n",
            "1 banana\n",
            "2 juice\n",
            "3 tomatos\n"
          ],
          "name": "stdout"
        }
      ]
    },
    {
      "cell_type": "code",
      "metadata": {
        "id": "C-5S2DFUJZfE",
        "colab_type": "code",
        "colab": {
          "base_uri": "https://localhost:8080/",
          "height": 85
        },
        "outputId": "eef712b0-ecc7-4a25-9161-302eb9f04227"
      },
      "source": [
        "for key, value in enumerate(shop_l):\n",
        "  print(key, value)"
      ],
      "execution_count": 48,
      "outputs": [
        {
          "output_type": "stream",
          "text": [
            "0 apple\n",
            "1 banana\n",
            "2 juice\n",
            "3 tomatos\n"
          ],
          "name": "stdout"
        }
      ]
    },
    {
      "cell_type": "code",
      "metadata": {
        "id": "KEIoP77rJvwK",
        "colab_type": "code",
        "colab": {}
      },
      "source": [
        "test = {'Alexey': [1, {'Apple': 2} ,3], 'Vasya': 5}"
      ],
      "execution_count": 49,
      "outputs": []
    },
    {
      "cell_type": "code",
      "metadata": {
        "id": "qum6ugs2KADK",
        "colab_type": "code",
        "colab": {
          "base_uri": "https://localhost:8080/",
          "height": 34
        },
        "outputId": "8b391975-533d-490e-f78f-a2a203ec865d"
      },
      "source": [
        "test['Alexey'][1]['Apple']"
      ],
      "execution_count": 53,
      "outputs": [
        {
          "output_type": "execute_result",
          "data": {
            "text/plain": [
              "2"
            ]
          },
          "metadata": {
            "tags": []
          },
          "execution_count": 53
        }
      ]
    },
    {
      "cell_type": "code",
      "metadata": {
        "id": "s351J23bKC05",
        "colab_type": "code",
        "colab": {
          "base_uri": "https://localhost:8080/",
          "height": 51
        },
        "outputId": "9c62a919-053d-46e9-e35b-a16f483881bd"
      },
      "source": [
        "for k in test.items():\n",
        "  print(k)"
      ],
      "execution_count": 54,
      "outputs": [
        {
          "output_type": "stream",
          "text": [
            "('Alexey', [1, {'Apple': 2}, 3])\n",
            "('Vasya', 5)\n"
          ],
          "name": "stdout"
        }
      ]
    },
    {
      "cell_type": "code",
      "metadata": {
        "id": "QgsKEUbixy1N",
        "colab_type": "code",
        "colab": {
          "base_uri": "https://localhost:8080/",
          "height": 51
        },
        "outputId": "ca62437c-945a-42c5-fc55-04a5d95f3085"
      },
      "source": [
        "for k in test:\n",
        "  print(k)"
      ],
      "execution_count": 55,
      "outputs": [
        {
          "output_type": "stream",
          "text": [
            "Alexey\n",
            "Vasya\n"
          ],
          "name": "stdout"
        }
      ]
    },
    {
      "cell_type": "code",
      "metadata": {
        "id": "xv166Mm5Kgqx",
        "colab_type": "code",
        "colab": {
          "base_uri": "https://localhost:8080/",
          "height": 34
        },
        "outputId": "d88cfa39-baf9-4da7-87cc-f0155b496786"
      },
      "source": [
        "test"
      ],
      "execution_count": 56,
      "outputs": [
        {
          "output_type": "execute_result",
          "data": {
            "text/plain": [
              "{'Alexey': [1, {'Apple': 2}, 3], 'Vasya': 5}"
            ]
          },
          "metadata": {
            "tags": []
          },
          "execution_count": 56
        }
      ]
    },
    {
      "cell_type": "code",
      "metadata": {
        "id": "JT-gpLyuKvFD",
        "colab_type": "code",
        "colab": {
          "base_uri": "https://localhost:8080/",
          "height": 34
        },
        "outputId": "e67ec32d-572f-4701-81aa-7bd3cf36f8ef"
      },
      "source": [
        "test.get('Alexey')"
      ],
      "execution_count": 58,
      "outputs": [
        {
          "output_type": "execute_result",
          "data": {
            "text/plain": [
              "[1, {'Apple': 2}, 3]"
            ]
          },
          "metadata": {
            "tags": []
          },
          "execution_count": 58
        }
      ]
    },
    {
      "cell_type": "code",
      "metadata": {
        "id": "7OKHZMyxLPa-",
        "colab_type": "code",
        "colab": {
          "base_uri": "https://localhost:8080/",
          "height": 34
        },
        "outputId": "56807502-da8b-45a3-8d2a-cb923b07dae5"
      },
      "source": [
        "# если этого ключа нет в словаре, то при помощи get выйдет не ошибка, а какое-то указанное заранее значение\n",
        "test.get('Petya', 0)"
      ],
      "execution_count": 57,
      "outputs": [
        {
          "output_type": "execute_result",
          "data": {
            "text/plain": [
              "0"
            ]
          },
          "metadata": {
            "tags": []
          },
          "execution_count": 57
        }
      ]
    },
    {
      "cell_type": "code",
      "metadata": {
        "id": "BwrxZ3J6LYxc",
        "colab_type": "code",
        "colab": {
          "base_uri": "https://localhost:8080/",
          "height": 34
        },
        "outputId": "1aefa76c-7821-4366-b855-77f270d42696"
      },
      "source": [
        "test"
      ],
      "execution_count": 59,
      "outputs": [
        {
          "output_type": "execute_result",
          "data": {
            "text/plain": [
              "{'Alexey': [1, {'Apple': 2}, 3], 'Vasya': 5}"
            ]
          },
          "metadata": {
            "tags": []
          },
          "execution_count": 59
        }
      ]
    },
    {
      "cell_type": "code",
      "metadata": {
        "id": "I-XO3ZqELfll",
        "colab_type": "code",
        "colab": {
          "base_uri": "https://localhost:8080/",
          "height": 68
        },
        "outputId": "4a5ee1a3-81f0-4417-ffd8-390049988869"
      },
      "source": [
        "for k, v in test.items():\n",
        "  if type(v) == list:\n",
        "    for el in v:\n",
        "      if type(el) == dict:\n",
        "        for k2, v2 in el.items():\n",
        "          print(k2, v2)\n",
        "  print(k)"
      ],
      "execution_count": 60,
      "outputs": [
        {
          "output_type": "stream",
          "text": [
            "Apple 2\n",
            "Alexey\n",
            "Vasya\n"
          ],
          "name": "stdout"
        }
      ]
    },
    {
      "cell_type": "code",
      "metadata": {
        "id": "puB7744SMO4r",
        "colab_type": "code",
        "colab": {
          "base_uri": "https://localhost:8080/",
          "height": 34
        },
        "outputId": "06fd4703-77f5-4bc1-8084-b807d2f86e0f"
      },
      "source": [
        "value = [2,3,4,5]\n",
        "docs_input = 3\n",
        "\n",
        "for elem in value:\n",
        "  if elem == docs_input:\n",
        "    value.remove(elem)\n",
        "\n",
        "value"
      ],
      "execution_count": 64,
      "outputs": [
        {
          "output_type": "execute_result",
          "data": {
            "text/plain": [
              "[2, 4, 5]"
            ]
          },
          "metadata": {
            "tags": []
          },
          "execution_count": 64
        }
      ]
    },
    {
      "cell_type": "code",
      "metadata": {
        "id": "RHXTPBo2Onl0",
        "colab_type": "code",
        "colab": {}
      },
      "source": [
        "def print_candle(count):\n",
        "  if count > 10:\n",
        "    count = 10\n",
        "  print(\"Candle\", \"$\"*count)"
      ],
      "execution_count": 65,
      "outputs": []
    },
    {
      "cell_type": "code",
      "metadata": {
        "id": "7Vf-McUHO0pf",
        "colab_type": "code",
        "colab": {
          "base_uri": "https://localhost:8080/",
          "height": 68
        },
        "outputId": "7f0b4b7a-a16d-4d31-f3dc-0cfaaee8e97a"
      },
      "source": [
        "print_candle(4)\n",
        "print_candle(5)\n",
        "print_candle(30)"
      ],
      "execution_count": 68,
      "outputs": [
        {
          "output_type": "stream",
          "text": [
            "Candle $$$$\n",
            "Candle $$$$$\n",
            "Candle $$$$$$$$$$\n"
          ],
          "name": "stdout"
        }
      ]
    },
    {
      "cell_type": "code",
      "metadata": {
        "id": "M4qvo8lUO206",
        "colab_type": "code",
        "colab": {
          "base_uri": "https://localhost:8080/",
          "height": 34
        },
        "outputId": "28ac6694-4f26-4124-8aa5-9ca988c58daa"
      },
      "source": [
        "random.random()"
      ],
      "execution_count": 69,
      "outputs": [
        {
          "output_type": "execute_result",
          "data": {
            "text/plain": [
              "0.5066042558247461"
            ]
          },
          "metadata": {
            "tags": []
          },
          "execution_count": 69
        }
      ]
    },
    {
      "cell_type": "code",
      "metadata": {
        "id": "sEN8jW9HPjaK",
        "colab_type": "code",
        "colab": {}
      },
      "source": [
        "def max(a,b):\n",
        "  return (a if a > b else b)\n",
        "  print(\"Vasya\")"
      ],
      "execution_count": 70,
      "outputs": []
    },
    {
      "cell_type": "code",
      "metadata": {
        "id": "Aa0DO9bYP87y",
        "colab_type": "code",
        "colab": {
          "base_uri": "https://localhost:8080/",
          "height": 34
        },
        "outputId": "e86b0494-d81f-44a6-c1c1-5c09bab83d29"
      },
      "source": [
        "max(4,5)"
      ],
      "execution_count": 71,
      "outputs": [
        {
          "output_type": "execute_result",
          "data": {
            "text/plain": [
              "5"
            ]
          },
          "metadata": {
            "tags": []
          },
          "execution_count": 71
        }
      ]
    },
    {
      "cell_type": "code",
      "metadata": {
        "id": "b44Qmr7nQAWv",
        "colab_type": "code",
        "colab": {}
      },
      "source": [
        ""
      ],
      "execution_count": null,
      "outputs": []
    }
  ]
}